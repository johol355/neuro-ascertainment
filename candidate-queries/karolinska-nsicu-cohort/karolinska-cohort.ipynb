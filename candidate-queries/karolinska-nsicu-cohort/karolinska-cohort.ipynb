{
 "cells": [
  {
   "cell_type": "code",
   "execution_count": 95,
   "metadata": {},
   "outputs": [],
   "source": [
    "# Load dependencies\n",
    "import pandas as pd\n",
    "import matplotlib.pyplot as plt\n",
    "import numpy as np\n",
    "import sqlalchemy\n",
    "from sqlalchemy import create_engine, text\n",
    "import pymc as pm\n",
    "import arviz as az\n",
    "from scipy.stats import zscore\n",
    "\n",
    "# Define the SQLalchemy engine\n",
    "engine = create_engine(f\"sqlite:////Users/JO/PhD/neuro-ascertainment/data/db.sqlite\")\n",
    "\n",
    "# Read the SQL query from the file\n",
    "with open('/Users/JO/PhD/neuro-ascertainment/candidate-queries/karolinska-nsicu-cohort/karolinska-cohort.sql', 'r') as file:\n",
    "    query = file.read()"
   ]
  },
  {
   "cell_type": "code",
   "execution_count": 96,
   "metadata": {},
   "outputs": [],
   "source": [
    "query_PAR_HADM = query + \"SELECT * FROM PAR_HADM\"\n",
    "PAR_HADM = pd.read_sql(query_PAR_HADM, engine)"
   ]
  },
  {
   "cell_type": "code",
   "execution_count": 100,
   "metadata": {},
   "outputs": [],
   "source": [
    "def count_id(df):\n",
    "    LopNr = df['LopNr'].nunique() if 'LopNr' in df else 'Column missing'\n",
    "    VtfId_LopNr = df['VtfId_LopNr'].nunique() if 'VtfId_LopNr' in df else 'Column missing'\n",
    "    HADM_ID = df['HADM_ID'].nunique() if 'HADM_ID' in df else 'Column missing'\n",
    "    return print(f'Unique patients: {LopNr} | Unique SIR admits: {VtfId_LopNr} | Unique PAR admits: {HADM_ID}')"
   ]
  },
  {
   "cell_type": "code",
   "execution_count": 101,
   "metadata": {},
   "outputs": [
    {
     "name": "stdout",
     "output_type": "stream",
     "text": [
      "Unique patients: 59333 | Unique SIR admits: Column missing | Unique PAR admits: 359305\n"
     ]
    }
   ],
   "source": [
    "count_id(PAR_HADM)"
   ]
  },
  {
   "cell_type": "code",
   "execution_count": 102,
   "metadata": {},
   "outputs": [],
   "source": [
    "query_K_ICU_ADMISSIONS = query + \"SELECT * FROM K_ICU_ADMISSIONS\"\n",
    "K_ICU_ADMISSIONS = pd.read_sql(query_K_ICU_ADMISSIONS, engine)"
   ]
  },
  {
   "cell_type": "code",
   "execution_count": 103,
   "metadata": {},
   "outputs": [
    {
     "name": "stdout",
     "output_type": "stream",
     "text": [
      "Unique patients: 6454 | Unique SIR admits: 7673 | Unique PAR admits: Column missing\n"
     ]
    }
   ],
   "source": [
    "count_id(K_ICU_ADMISSIONS)"
   ]
  },
  {
   "cell_type": "code",
   "execution_count": 104,
   "metadata": {},
   "outputs": [],
   "source": [
    "query_K_ICU_ADMISSIONS_MATCHED_WITH_PAR = query + \"SELECT * FROM K_ICU_ADMISSIONS_MATCHED_WITH_PAR\"\n",
    "K_ICU_ADMISSIONS_MATCHED_WITH_PAR = pd.read_sql(query_K_ICU_ADMISSIONS_MATCHED_WITH_PAR, engine)"
   ]
  },
  {
   "cell_type": "code",
   "execution_count": 105,
   "metadata": {},
   "outputs": [
    {
     "name": "stdout",
     "output_type": "stream",
     "text": [
      "Unique patients: 5649 | Unique SIR admits: 6498 | Unique PAR admits: 6621\n"
     ]
    }
   ],
   "source": [
    "count_id(K_ICU_ADMISSIONS_MATCHED_WITH_PAR)"
   ]
  },
  {
   "cell_type": "code",
   "execution_count": 106,
   "metadata": {},
   "outputs": [],
   "source": [
    "query_K_ICU_ADMISSIONS_MATCHED_WITH_PAR_WITH_DX = query + \"SELECT * FROM K_ICU_ADMISSIONS_MATCHED_WITH_PAR_WITH_DX\"\n",
    "K_ICU_ADMISSIONS_MATCHED_WITH_PAR_WITH_DX = pd.read_sql(query_K_ICU_ADMISSIONS_MATCHED_WITH_PAR_WITH_DX, engine)"
   ]
  },
  {
   "cell_type": "code",
   "execution_count": 107,
   "metadata": {},
   "outputs": [
    {
     "name": "stdout",
     "output_type": "stream",
     "text": [
      "Unique patients: 5649 | Unique SIR admits: 6498 | Unique PAR admits: 6621\n"
     ]
    }
   ],
   "source": [
    "count_id(K_ICU_ADMISSIONS_MATCHED_WITH_PAR_WITH_DX)"
   ]
  },
  {
   "cell_type": "code",
   "execution_count": 108,
   "metadata": {},
   "outputs": [],
   "source": [
    "query_DESCRIPTIVE = query + \"SELECT * FROM DESCRIPTIVE \"\n",
    "DESCRIPTIVE  = pd.read_sql(query_DESCRIPTIVE, engine)"
   ]
  },
  {
   "cell_type": "code",
   "execution_count": 109,
   "metadata": {},
   "outputs": [
    {
     "name": "stdout",
     "output_type": "stream",
     "text": [
      "Unique patients: 5649 | Unique SIR admits: 6498 | Unique PAR admits: 6621\n"
     ]
    }
   ],
   "source": [
    "count_id(DESCRIPTIVE)"
   ]
  },
  {
   "cell_type": "code",
   "execution_count": 118,
   "metadata": {},
   "outputs": [
    {
     "data": {
      "text/html": [
       "<div>\n",
       "<style scoped>\n",
       "    .dataframe tbody tr th:only-of-type {\n",
       "        vertical-align: middle;\n",
       "    }\n",
       "\n",
       "    .dataframe tbody tr th {\n",
       "        vertical-align: top;\n",
       "    }\n",
       "\n",
       "    .dataframe thead th {\n",
       "        text-align: right;\n",
       "    }\n",
       "</style>\n",
       "<table border=\"1\" class=\"dataframe\">\n",
       "  <thead>\n",
       "    <tr style=\"text-align: right;\">\n",
       "      <th></th>\n",
       "      <th>count</th>\n",
       "      <th>age</th>\n",
       "      <th>sex_female</th>\n",
       "      <th>SAPS_GCS</th>\n",
       "      <th>d30</th>\n",
       "      <th>any_AMV</th>\n",
       "      <th>MVO</th>\n",
       "    </tr>\n",
       "    <tr>\n",
       "      <th>DX_GROUP</th>\n",
       "      <th></th>\n",
       "      <th></th>\n",
       "      <th></th>\n",
       "      <th></th>\n",
       "      <th></th>\n",
       "      <th></th>\n",
       "      <th></th>\n",
       "    </tr>\n",
       "  </thead>\n",
       "  <tbody>\n",
       "    <tr>\n",
       "      <th>ABM</th>\n",
       "      <td>245</td>\n",
       "      <td>55.648980</td>\n",
       "      <td>0.493878</td>\n",
       "      <td>12.0</td>\n",
       "      <td>0.159184</td>\n",
       "      <td>0.771429</td>\n",
       "      <td>121</td>\n",
       "    </tr>\n",
       "    <tr>\n",
       "      <th>AIS</th>\n",
       "      <td>552</td>\n",
       "      <td>62.289855</td>\n",
       "      <td>0.302536</td>\n",
       "      <td>10.0</td>\n",
       "      <td>0.257246</td>\n",
       "      <td>0.844203</td>\n",
       "      <td>221</td>\n",
       "    </tr>\n",
       "    <tr>\n",
       "      <th>ASAH</th>\n",
       "      <td>1408</td>\n",
       "      <td>57.762784</td>\n",
       "      <td>0.638494</td>\n",
       "      <td>14.0</td>\n",
       "      <td>0.127841</td>\n",
       "      <td>0.618608</td>\n",
       "      <td>331</td>\n",
       "    </tr>\n",
       "    <tr>\n",
       "      <th>AVM</th>\n",
       "      <td>45</td>\n",
       "      <td>47.422222</td>\n",
       "      <td>0.533333</td>\n",
       "      <td>15.0</td>\n",
       "      <td>0.044444</td>\n",
       "      <td>0.533333</td>\n",
       "      <td>331</td>\n",
       "    </tr>\n",
       "    <tr>\n",
       "      <th>CFX</th>\n",
       "      <td>300</td>\n",
       "      <td>60.833333</td>\n",
       "      <td>0.260000</td>\n",
       "      <td>15.0</td>\n",
       "      <td>0.106667</td>\n",
       "      <td>0.706667</td>\n",
       "      <td>331</td>\n",
       "    </tr>\n",
       "    <tr>\n",
       "      <th>CVT</th>\n",
       "      <td>23</td>\n",
       "      <td>43.956522</td>\n",
       "      <td>0.434783</td>\n",
       "      <td>11.0</td>\n",
       "      <td>0.173913</td>\n",
       "      <td>0.521739</td>\n",
       "      <td>221</td>\n",
       "    </tr>\n",
       "    <tr>\n",
       "      <th>ENC</th>\n",
       "      <td>44</td>\n",
       "      <td>46.659091</td>\n",
       "      <td>0.431818</td>\n",
       "      <td>10.0</td>\n",
       "      <td>0.068182</td>\n",
       "      <td>0.795455</td>\n",
       "      <td>121</td>\n",
       "    </tr>\n",
       "    <tr>\n",
       "      <th>HC</th>\n",
       "      <td>62</td>\n",
       "      <td>56.306452</td>\n",
       "      <td>0.580645</td>\n",
       "      <td>11.0</td>\n",
       "      <td>0.080645</td>\n",
       "      <td>0.822581</td>\n",
       "      <td>331</td>\n",
       "    </tr>\n",
       "    <tr>\n",
       "      <th>ICH</th>\n",
       "      <td>759</td>\n",
       "      <td>58.839262</td>\n",
       "      <td>0.405797</td>\n",
       "      <td>8.0</td>\n",
       "      <td>0.324111</td>\n",
       "      <td>0.849802</td>\n",
       "      <td>331</td>\n",
       "    </tr>\n",
       "    <tr>\n",
       "      <th>SDH</th>\n",
       "      <td>146</td>\n",
       "      <td>60.582192</td>\n",
       "      <td>0.294521</td>\n",
       "      <td>12.0</td>\n",
       "      <td>0.219178</td>\n",
       "      <td>0.726027</td>\n",
       "      <td>331</td>\n",
       "    </tr>\n",
       "    <tr>\n",
       "      <th>SEP</th>\n",
       "      <td>170</td>\n",
       "      <td>54.252941</td>\n",
       "      <td>0.447059</td>\n",
       "      <td>10.0</td>\n",
       "      <td>0.011765</td>\n",
       "      <td>0.835294</td>\n",
       "      <td>221</td>\n",
       "    </tr>\n",
       "    <tr>\n",
       "      <th>TBI</th>\n",
       "      <td>1336</td>\n",
       "      <td>54.858533</td>\n",
       "      <td>0.258234</td>\n",
       "      <td>10.0</td>\n",
       "      <td>0.182635</td>\n",
       "      <td>0.812126</td>\n",
       "      <td>301</td>\n",
       "    </tr>\n",
       "    <tr>\n",
       "      <th>TUM</th>\n",
       "      <td>153</td>\n",
       "      <td>51.549020</td>\n",
       "      <td>0.444444</td>\n",
       "      <td>11.0</td>\n",
       "      <td>0.163399</td>\n",
       "      <td>0.758170</td>\n",
       "      <td>331</td>\n",
       "    </tr>\n",
       "    <tr>\n",
       "      <th>NaN</th>\n",
       "      <td>2092</td>\n",
       "      <td>55.221797</td>\n",
       "      <td>0.339388</td>\n",
       "      <td>13.0</td>\n",
       "      <td>0.186902</td>\n",
       "      <td>0.768642</td>\n",
       "      <td>301</td>\n",
       "    </tr>\n",
       "  </tbody>\n",
       "</table>\n",
       "</div>"
      ],
      "text/plain": [
       "          count        age  sex_female  SAPS_GCS       d30   any_AMV  MVO\n",
       "DX_GROUP                                                                 \n",
       "ABM         245  55.648980    0.493878      12.0  0.159184  0.771429  121\n",
       "AIS         552  62.289855    0.302536      10.0  0.257246  0.844203  221\n",
       "ASAH       1408  57.762784    0.638494      14.0  0.127841  0.618608  331\n",
       "AVM          45  47.422222    0.533333      15.0  0.044444  0.533333  331\n",
       "CFX         300  60.833333    0.260000      15.0  0.106667  0.706667  331\n",
       "CVT          23  43.956522    0.434783      11.0  0.173913  0.521739  221\n",
       "ENC          44  46.659091    0.431818      10.0  0.068182  0.795455  121\n",
       "HC           62  56.306452    0.580645      11.0  0.080645  0.822581  331\n",
       "ICH         759  58.839262    0.405797       8.0  0.324111  0.849802  331\n",
       "SDH         146  60.582192    0.294521      12.0  0.219178  0.726027  331\n",
       "SEP         170  54.252941    0.447059      10.0  0.011765  0.835294  221\n",
       "TBI        1336  54.858533    0.258234      10.0  0.182635  0.812126  301\n",
       "TUM         153  51.549020    0.444444      11.0  0.163399  0.758170  331\n",
       "NaN        2092  55.221797    0.339388      13.0  0.186902  0.768642  301"
      ]
     },
     "execution_count": 118,
     "metadata": {},
     "output_type": "execute_result"
    }
   ],
   "source": [
    "result = DESCRIPTIVE.groupby('DX_GROUP', dropna=False).agg({'DX_GROUP': 'size', 'age': 'mean', 'sex_female': 'mean', 'SAPS_GCS': 'median', 'd30': 'mean', 'any_AMV': 'mean', 'MVO': lambda x: x.mode().iloc[0] if not x.mode().empty else None})\n",
    "result = result.rename(columns={'DX_GROUP': 'count'})\n",
    "result"
   ]
  },
  {
   "cell_type": "code",
   "execution_count": null,
   "metadata": {},
   "outputs": [],
   "source": [
    "MVO."
   ]
  }
 ],
 "metadata": {
  "kernelspec": {
   "display_name": "epidemiology-pyenv",
   "language": "python",
   "name": "python3"
  },
  "language_info": {
   "codemirror_mode": {
    "name": "ipython",
    "version": 3
   },
   "file_extension": ".py",
   "mimetype": "text/x-python",
   "name": "python",
   "nbconvert_exporter": "python",
   "pygments_lexer": "ipython3",
   "version": "3.11.9"
  }
 },
 "nbformat": 4,
 "nbformat_minor": 2
}
